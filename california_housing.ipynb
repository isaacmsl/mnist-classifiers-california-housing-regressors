{
  "nbformat": 4,
  "nbformat_minor": 0,
  "metadata": {
    "colab": {
      "provenance": [],
      "include_colab_link": true
    },
    "kernelspec": {
      "name": "python3",
      "display_name": "Python 3"
    },
    "language_info": {
      "name": "python"
    }
  },
  "cells": [
    {
      "cell_type": "markdown",
      "metadata": {
        "id": "view-in-github",
        "colab_type": "text"
      },
      "source": [
        "<a href=\"https://colab.research.google.com/github/isaacmsl/mnist-classifiers-california-housing-regressors/blob/main/california_housing.ipynb\" target=\"_parent\"><img src=\"https://colab.research.google.com/assets/colab-badge.svg\" alt=\"Open In Colab\"/></a>"
      ]
    },
    {
      "cell_type": "code",
      "execution_count": null,
      "metadata": {
        "id": "1Te-2L5Q7APA"
      },
      "outputs": [],
      "source": [
        "from sklearn import tree, metrics\n",
        "from sklearn.preprocessing import StandardScaler, MinMaxScaler\n",
        "from sklearn.datasets import fetch_california_housing\n",
        "from sklearn.model_selection import GridSearchCV, train_test_split\n",
        "import numpy as np"
      ]
    },
    {
      "cell_type": "code",
      "source": [
        "\n",
        "X, y = fetch_california_housing(return_X_y=True)\n",
        "X_train, X_test, y_train, y_test = train_test_split(X, y, test_size=0.2, random_state=42)\n",
        "\n",
        "param_grid = {\n",
        "    'max_depth': [5, 10, 20, None],\n",
        "    'min_samples_split': [2, 5, 10],\n",
        "    'min_samples_leaf': [1, 2, 4],\n",
        "}\n",
        "\n",
        "grid_search = GridSearchCV(tree.DecisionTreeRegressor(random_state=42), param_grid, cv=3, n_jobs=-1, verbose=1)\n",
        "\n",
        "\n",
        "print(grid_search.fit(X_train, y_train))\n",
        "print(grid_search.best_params_)\n",
        "\n",
        "print(grid_search.best_score_)\n",
        "\n",
        "regressor = grid_search.best_estimator_\n",
        "\n",
        "\n",
        "regressor.fit(X_train, y_train)\n",
        "y_pred = regressor.predict(X_test)\n",
        "\n",
        "\n",
        "print(metrics.mean_squared_error(y_test, y_pred))\n",
        "print(metrics.r2_score(y_test, y_pred))"
      ],
      "metadata": {
        "colab": {
          "base_uri": "https://localhost:8080/"
        },
        "id": "kePBx7HV7Gop",
        "outputId": "123e01a8-7e76-4ce6-e85d-c7561c77c614"
      },
      "execution_count": null,
      "outputs": [
        {
          "output_type": "stream",
          "name": "stdout",
          "text": [
            "Fitting 3 folds for each of 36 candidates, totalling 108 fits\n",
            "GridSearchCV(cv=3, estimator=DecisionTreeRegressor(random_state=42), n_jobs=-1,\n",
            "             param_grid={'max_depth': [5, 10, 20, None],\n",
            "                         'min_samples_leaf': [1, 2, 4],\n",
            "                         'min_samples_split': [2, 5, 10]},\n",
            "             verbose=1)\n",
            "{'max_depth': 10, 'min_samples_leaf': 4, 'min_samples_split': 10}\n",
            "0.6893996163202178\n",
            "0.40832623099687676\n",
            "0.688397868316641\n"
          ]
        }
      ]
    }
  ]
}